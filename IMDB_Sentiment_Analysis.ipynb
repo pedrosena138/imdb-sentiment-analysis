{
  "cells": [
    {
      "cell_type": "markdown",
      "metadata": {
        "id": "view-in-github",
        "colab_type": "text"
      },
      "source": [
        "<a href=\"https://colab.research.google.com/github/pedrosena138/imdb-sentiment-analysis/blob/main/IMDB_Sentiment_Analysis.ipynb\" target=\"_parent\"><img src=\"https://colab.research.google.com/assets/colab-badge.svg\" alt=\"Open In Colab\"/></a>"
      ]
    },
    {
      "cell_type": "markdown",
      "metadata": {
        "id": "nS4VfELjyWas"
      },
      "source": [
        "![logo__pitang.png](data:image/png;base64,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)"
      ]
    },
    {
      "cell_type": "markdown",
      "metadata": {
        "id": "uvGAwFBOxt0G"
      },
      "source": [
        "# Análise de Sentimento da IMDB\n",
        "> Implementando um modelo de linguagem para análise de sentimenTo da base de dados IMDB utilizando o Huggingface e o Tensorflow\n",
        "\n",
        "Antes de iniciar é necessário ativar a GPU do ambiente para uma melhor performance. Para fazer isso basta ir no menu:  \n",
        "\n",
        "Editar -> Configurações de notebook -> Acelerador de hardware -> selecionar a opção GPU\n",
        "\n",
        "![](https://th.bing.com/th/id/OIP.WSRXF4Xni-Ch18U9BnHdCQHaHa?w=195&h=195&c=7&r=0&o=5&pid=1.7) ![](https://th.bing.com/th/id/OIP.LRW8UBZq8iNKoOHLgCK2MwHaEK?w=297&h=180&c=7&r=0&o=5&pid=1.7)"
      ]
    },
    {
      "cell_type": "markdown",
      "metadata": {
        "id": "gWxoMakvzQ7T"
      },
      "source": [
        "## 1. Setup"
      ]
    },
    {
      "cell_type": "markdown",
      "metadata": {
        "id": "XVGcab2f1A1q"
      },
      "source": [
        "Instalando bibliotecas do Huggingface"
      ]
    },
    {
      "cell_type": "code",
      "execution_count": 2,
      "metadata": {
        "colab": {
          "base_uri": "https://localhost:8080/"
        },
        "id": "-EkdMYyvzYRS",
        "outputId": "7544ad8d-361a-4017-e3a6-d07320ac3610"
      },
      "outputs": [
        {
          "output_type": "stream",
          "name": "stdout",
          "text": [
            "Requirement already satisfied: datasets in /usr/local/lib/python3.10/dist-packages (2.13.1)\n",
            "Requirement already satisfied: transformers in /usr/local/lib/python3.10/dist-packages (4.30.2)\n",
            "Requirement already satisfied: evaluate in /usr/local/lib/python3.10/dist-packages (0.4.0)\n",
            "Requirement already satisfied: xformers in /usr/local/lib/python3.10/dist-packages (0.0.20)\n",
            "Requirement already satisfied: numpy>=1.17 in /usr/local/lib/python3.10/dist-packages (from datasets) (1.22.4)\n",
            "Requirement already satisfied: pyarrow>=8.0.0 in /usr/local/lib/python3.10/dist-packages (from datasets) (9.0.0)\n",
            "Requirement already satisfied: dill<0.3.7,>=0.3.0 in /usr/local/lib/python3.10/dist-packages (from datasets) (0.3.6)\n",
            "Requirement already satisfied: pandas in /usr/local/lib/python3.10/dist-packages (from datasets) (1.5.3)\n",
            "Requirement already satisfied: requests>=2.19.0 in /usr/local/lib/python3.10/dist-packages (from datasets) (2.27.1)\n",
            "Requirement already satisfied: tqdm>=4.62.1 in /usr/local/lib/python3.10/dist-packages (from datasets) (4.65.0)\n",
            "Requirement already satisfied: xxhash in /usr/local/lib/python3.10/dist-packages (from datasets) (3.2.0)\n",
            "Requirement already satisfied: multiprocess in /usr/local/lib/python3.10/dist-packages (from datasets) (0.70.14)\n",
            "Requirement already satisfied: fsspec[http]>=2021.11.1 in /usr/local/lib/python3.10/dist-packages (from datasets) (2023.6.0)\n",
            "Requirement already satisfied: aiohttp in /usr/local/lib/python3.10/dist-packages (from datasets) (3.8.4)\n",
            "Requirement already satisfied: huggingface-hub<1.0.0,>=0.11.0 in /usr/local/lib/python3.10/dist-packages (from datasets) (0.16.4)\n",
            "Requirement already satisfied: packaging in /usr/local/lib/python3.10/dist-packages (from datasets) (23.1)\n",
            "Requirement already satisfied: pyyaml>=5.1 in /usr/local/lib/python3.10/dist-packages (from datasets) (6.0)\n",
            "Requirement already satisfied: filelock in /usr/local/lib/python3.10/dist-packages (from transformers) (3.12.2)\n",
            "Requirement already satisfied: regex!=2019.12.17 in /usr/local/lib/python3.10/dist-packages (from transformers) (2022.10.31)\n",
            "Requirement already satisfied: tokenizers!=0.11.3,<0.14,>=0.11.1 in /usr/local/lib/python3.10/dist-packages (from transformers) (0.13.3)\n",
            "Requirement already satisfied: safetensors>=0.3.1 in /usr/local/lib/python3.10/dist-packages (from transformers) (0.3.1)\n",
            "Requirement already satisfied: responses<0.19 in /usr/local/lib/python3.10/dist-packages (from evaluate) (0.18.0)\n",
            "Requirement already satisfied: pyre-extensions==0.0.29 in /usr/local/lib/python3.10/dist-packages (from xformers) (0.0.29)\n",
            "Requirement already satisfied: torch==2.0.1 in /usr/local/lib/python3.10/dist-packages (from xformers) (2.0.1+cu118)\n",
            "Requirement already satisfied: typing-inspect in /usr/local/lib/python3.10/dist-packages (from pyre-extensions==0.0.29->xformers) (0.9.0)\n",
            "Requirement already satisfied: typing-extensions in /usr/local/lib/python3.10/dist-packages (from pyre-extensions==0.0.29->xformers) (4.7.1)\n",
            "Requirement already satisfied: sympy in /usr/local/lib/python3.10/dist-packages (from torch==2.0.1->xformers) (1.11.1)\n",
            "Requirement already satisfied: networkx in /usr/local/lib/python3.10/dist-packages (from torch==2.0.1->xformers) (3.1)\n",
            "Requirement already satisfied: jinja2 in /usr/local/lib/python3.10/dist-packages (from torch==2.0.1->xformers) (3.1.2)\n",
            "Requirement already satisfied: triton==2.0.0 in /usr/local/lib/python3.10/dist-packages (from torch==2.0.1->xformers) (2.0.0)\n",
            "Requirement already satisfied: cmake in /usr/local/lib/python3.10/dist-packages (from triton==2.0.0->torch==2.0.1->xformers) (3.25.2)\n",
            "Requirement already satisfied: lit in /usr/local/lib/python3.10/dist-packages (from triton==2.0.0->torch==2.0.1->xformers) (16.0.6)\n",
            "Requirement already satisfied: attrs>=17.3.0 in /usr/local/lib/python3.10/dist-packages (from aiohttp->datasets) (23.1.0)\n",
            "Requirement already satisfied: charset-normalizer<4.0,>=2.0 in /usr/local/lib/python3.10/dist-packages (from aiohttp->datasets) (2.0.12)\n",
            "Requirement already satisfied: multidict<7.0,>=4.5 in /usr/local/lib/python3.10/dist-packages (from aiohttp->datasets) (6.0.4)\n",
            "Requirement already satisfied: async-timeout<5.0,>=4.0.0a3 in /usr/local/lib/python3.10/dist-packages (from aiohttp->datasets) (4.0.2)\n",
            "Requirement already satisfied: yarl<2.0,>=1.0 in /usr/local/lib/python3.10/dist-packages (from aiohttp->datasets) (1.9.2)\n",
            "Requirement already satisfied: frozenlist>=1.1.1 in /usr/local/lib/python3.10/dist-packages (from aiohttp->datasets) (1.3.3)\n",
            "Requirement already satisfied: aiosignal>=1.1.2 in /usr/local/lib/python3.10/dist-packages (from aiohttp->datasets) (1.3.1)\n",
            "Requirement already satisfied: urllib3<1.27,>=1.21.1 in /usr/local/lib/python3.10/dist-packages (from requests>=2.19.0->datasets) (1.26.16)\n",
            "Requirement already satisfied: certifi>=2017.4.17 in /usr/local/lib/python3.10/dist-packages (from requests>=2.19.0->datasets) (2023.5.7)\n",
            "Requirement already satisfied: idna<4,>=2.5 in /usr/local/lib/python3.10/dist-packages (from requests>=2.19.0->datasets) (3.4)\n",
            "Requirement already satisfied: python-dateutil>=2.8.1 in /usr/local/lib/python3.10/dist-packages (from pandas->datasets) (2.8.2)\n",
            "Requirement already satisfied: pytz>=2020.1 in /usr/local/lib/python3.10/dist-packages (from pandas->datasets) (2022.7.1)\n",
            "Requirement already satisfied: six>=1.5 in /usr/local/lib/python3.10/dist-packages (from python-dateutil>=2.8.1->pandas->datasets) (1.16.0)\n",
            "Requirement already satisfied: MarkupSafe>=2.0 in /usr/local/lib/python3.10/dist-packages (from jinja2->torch==2.0.1->xformers) (2.1.3)\n",
            "Requirement already satisfied: mpmath>=0.19 in /usr/local/lib/python3.10/dist-packages (from sympy->torch==2.0.1->xformers) (1.3.0)\n",
            "Requirement already satisfied: mypy-extensions>=0.3.0 in /usr/local/lib/python3.10/dist-packages (from typing-inspect->pyre-extensions==0.0.29->xformers) (1.0.0)\n"
          ]
        }
      ],
      "source": [
        "!pip install datasets transformers evaluate xformers"
      ]
    },
    {
      "cell_type": "markdown",
      "source": [
        "Importando bibliotecas para o notebook. Algumas bibliotecas já vem pré-instaladas como Pandas, Scikit-learn, Numpy, etc."
      ],
      "metadata": {
        "id": "GNRa8luWELsr"
      }
    },
    {
      "cell_type": "code",
      "execution_count": 3,
      "metadata": {
        "id": "XbdCClWV5lsw"
      },
      "outputs": [],
      "source": [
        "import os\n",
        "import random\n",
        "from transformers import TFAutoModelForSequenceClassification, AutoTokenizer, DataCollatorWithPadding, create_optimizer, pipeline, set_seed\n",
        "from datasets import load_dataset\n",
        "import tensorflow as tf\n",
        "import evaluate\n",
        "\n",
        "import matplotlib as mpl\n",
        "import matplotlib.pyplot as plt\n",
        "import numpy as np\n",
        "import pandas as pd"
      ]
    },
    {
      "cell_type": "markdown",
      "source": [
        "Configura valor padrão para geração de valores pseudoaleatórios"
      ],
      "metadata": {
        "id": "4c2OdHnCEhad"
      }
    },
    {
      "cell_type": "code",
      "execution_count": 4,
      "metadata": {
        "id": "Vuwz0-xaD_5N"
      },
      "outputs": [],
      "source": [
        "seed_value= 42\n",
        "os.environ['PYTHONHASHSEED']=str(seed_value)\n",
        "random.seed(seed_value)\n",
        "np.random.seed(seed_value)\n",
        "set_seed(seed_value)"
      ]
    },
    {
      "cell_type": "markdown",
      "source": [
        "## 2. Base de Dados"
      ],
      "metadata": {
        "id": "tPms5znbEHal"
      }
    },
    {
      "cell_type": "markdown",
      "source": [
        "A base de dados selecionada a IMDB (Internet Movie Database) que contem reviews de filmes junto com uma classificação de POSITIVA (1) ou NEGATIVA (0)."
      ],
      "metadata": {
        "id": "y5Uf01CBE9Pa"
      }
    },
    {
      "cell_type": "code",
      "execution_count": 5,
      "metadata": {
        "colab": {
          "base_uri": "https://localhost:8080/",
          "height": 66,
          "referenced_widgets": [
            "fbc9152c138347c188757ea66d537bfa",
            "c7da6a19db8e4e3d8715c768941036f1",
            "149fba4451d1446c9dbaa52ca8c0619e",
            "75d636e19c084dfaa2f6458a38dc82aa",
            "4401329a3bb0468181a590d4b4e53280",
            "003d76e6e0134a1680aa4943a792201e",
            "2718c62b2aeb485781a7cac3c8a01bd4",
            "2290831a243f49d0ba66f30104cb859b",
            "eb0c979e936345f68b632bfad5adbbf7",
            "a79f1ebc3d994205a07bb08daebf4e90",
            "62b379a961124020b7dae2e818e910d0"
          ]
        },
        "id": "KlIe0LcA1T0G",
        "outputId": "3cc9868d-31bf-4854-c18e-0c8a71faeb9b"
      },
      "outputs": [
        {
          "output_type": "stream",
          "name": "stderr",
          "text": [
            "WARNING:datasets.builder:Found cached dataset imdb (/root/.cache/huggingface/datasets/imdb/plain_text/1.0.0/d613c88cf8fa3bab83b4ded3713f1f74830d1100e171db75bbddb80b3345c9c0)\n"
          ]
        },
        {
          "output_type": "display_data",
          "data": {
            "text/plain": [
              "  0%|          | 0/3 [00:00<?, ?it/s]"
            ],
            "application/vnd.jupyter.widget-view+json": {
              "version_major": 2,
              "version_minor": 0,
              "model_id": "fbc9152c138347c188757ea66d537bfa"
            }
          },
          "metadata": {}
        }
      ],
      "source": [
        "dataset = load_dataset('imdb')\n",
        "train_df = dataset['train'].to_pandas()"
      ]
    },
    {
      "cell_type": "markdown",
      "source": [
        "Exemplo de um registro"
      ],
      "metadata": {
        "id": "3QHNHTzBrXYY"
      }
    },
    {
      "cell_type": "code",
      "source": [
        "print('Text:', dataset['train'][0]['text'])\n",
        "print('Label:', dataset['train'][0]['label'])"
      ],
      "metadata": {
        "colab": {
          "base_uri": "https://localhost:8080/"
        },
        "id": "a5gak5MfiAZ9",
        "outputId": "94d0214e-b05d-4a1d-bc07-cac0d6d6bf45"
      },
      "execution_count": 16,
      "outputs": [
        {
          "output_type": "stream",
          "name": "stdout",
          "text": [
            "Text: I rented I AM CURIOUS-YELLOW from my video store because of all the controversy that surrounded it when it was first released in 1967. I also heard that at first it was seized by U.S. customs if it ever tried to enter this country, therefore being a fan of films considered \"controversial\" I really had to see this for myself.<br /><br />The plot is centered around a young Swedish drama student named Lena who wants to learn everything she can about life. In particular she wants to focus her attentions to making some sort of documentary on what the average Swede thought about certain political issues such as the Vietnam War and race issues in the United States. In between asking politicians and ordinary denizens of Stockholm about their opinions on politics, she has sex with her drama teacher, classmates, and married men.<br /><br />What kills me about I AM CURIOUS-YELLOW is that 40 years ago, this was considered pornographic. Really, the sex and nudity scenes are few and far between, even then it's not shot like some cheaply made porno. While my countrymen mind find it shocking, in reality sex and nudity are a major staple in Swedish cinema. Even Ingmar Bergman, arguably their answer to good old boy John Ford, had sex scenes in his films.<br /><br />I do commend the filmmakers for the fact that any sex shown in the film is shown for artistic purposes rather than just to shock people and make money to be shown in pornographic theaters in America. I AM CURIOUS-YELLOW is a good film for anyone wanting to study the meat and potatoes (no pun intended) of Swedish cinema. But really, this film doesn't have much of a plot.\n",
            "Label: 0\n"
          ]
        }
      ]
    },
    {
      "cell_type": "markdown",
      "source": [
        "Olhando para como está distribuida a base de treinamento, podemos ver que ela está balanceada"
      ],
      "metadata": {
        "id": "iSZAmXwNrmYS"
      }
    },
    {
      "cell_type": "code",
      "source": [
        "count_labels = train_df.groupby('label').count().reset_index()\n",
        "\n",
        "plt.pie(x=count_labels['text'].tolist(), labels=['Negativo', 'Positivo'], startangle=90, autopct='%.2f')\n",
        "plt.title('Porcentagens da distribuição das classificações dos filmes')\n",
        "plt.show()"
      ],
      "metadata": {
        "colab": {
          "base_uri": "https://localhost:8080/",
          "height": 428
        },
        "id": "4OsLNwrnjrkL",
        "outputId": "8b9bd16d-8ca2-4464-cb11-43b8912526c8"
      },
      "execution_count": 7,
      "outputs": [
        {
          "output_type": "display_data",
          "data": {
            "text/plain": [
              "<Figure size 640x480 with 1 Axes>"
            ],
            "image/png": "[encoded data removed]"
          },
          "metadata": {}
        }
      ]
    },
    {
      "cell_type": "markdown",
      "source": [
        "Porém os dados parecem não estar muito bem distribuidos como mostra o gráfico abaixo"
      ],
      "metadata": {
        "id": "Gnpseb3xuD4w"
      }
    },
    {
      "cell_type": "code",
      "source": [
        "train_df['label'].plot()\n",
        "plt.ylabel('Classificação')\n",
        "plt.xlabel('Índices na base de dados')\n",
        "plt.title('Distribuição das classificações pelo índice')\n",
        "plt.show()"
      ],
      "metadata": {
        "colab": {
          "base_uri": "https://localhost:8080/",
          "height": 472
        },
        "id": "-9dXOF0kuKC-",
        "outputId": "6454b40e-04e7-4262-d47e-13caa562f5f3"
      },
      "execution_count": 8,
      "outputs": [
        {
          "output_type": "display_data",
          "data": {
            "text/plain": [
              "<Figure size 640x480 with 1 Axes>"
            ],
            "image/png": "[encoded data removed]"
          },
          "metadata": {}
        }
      ]
    },
    {
      "cell_type": "markdown",
      "source": [
        "## 3. Pré-processamento"
      ],
      "metadata": {
        "id": "f4ML0t7NHwJT"
      }
    },
    {
      "cell_type": "markdown",
      "source": [
        "Antes de utilizar a base de dados para treinar nosso modelo, é necessário realizar um pré-processamento dos dados para que o modelo seja capaz de entender os dados. A quantidade de etapas dessa fase irá depender da base de dados utilizada, quanto melhor for a qualidade dos dados, menos ajustes serão necessários."
      ],
      "metadata": {
        "id": "M_bpUwHcHz-e"
      }
    },
    {
      "cell_type": "markdown",
      "source": [
        "Nosso modelo de linguagem precisa de um \"tokenizador\" para transformar as palavras em uma sequencia de números. Além disso a base de dados foi separada em treinamento, validação e teste"
      ],
      "metadata": {
        "id": "aYJUc6UHIXWn"
      }
    },
    {
      "cell_type": "code",
      "execution_count": 9,
      "metadata": {
        "colab": {
          "base_uri": "https://localhost:8080/"
        },
        "id": "HngOyB2g6qGl",
        "outputId": "866f4c1f-6b6c-4724-936f-77ee7869f01e"
      },
      "outputs": [
        {
          "output_type": "stream",
          "name": "stdout",
          "text": [
            "Encoded Text: [101, 1045, 12524, 1045, 2572, 8025, 1011, 3756, 2013, 2026, 2678, 3573, 2138, 1997, 2035, 1996, 6704, 2008, 5129, 2009, 2043, 2009, 2001, 2034, 2207, 1999, 3476, 1012, 1045, 2036, 2657, 2008, 2012, 2034, 2009, 2001, 8243, 2011, 1057, 1012, 1055, 1012, 8205, 2065, 2009, 2412, 2699, 2000, 4607, 2023, 2406, 1010, 3568, 2108, 1037, 5470, 1997, 3152, 2641, 1000, 6801, 1000, 1045, 2428, 2018, 2000, 2156, 2023, 2005, 2870, 1012, 1026, 7987, 1013, 1028, 1026, 7987, 1013, 1028, 1996, 5436, 2003, 8857, 2105, 1037, 2402, 4467, 3689, 3076, 2315, 14229, 2040, 4122, 2000, 4553, 2673, 2016, 2064, 2055, 2166, 1012, 1999, 3327, 2016, 4122, 2000, 3579, 2014, 3086, 2015, 2000, 2437, 2070, 4066, 1997, 4516, 2006, 2054, 1996, 2779, 25430, 14728, 2245, 2055, 3056, 2576, 3314, 2107, 2004, 1996, 5148, 2162, 1998, 2679, 3314, 1999, 1996, 2142, 2163, 1012, 1999, 2090, 4851, 8801, 1998, 6623, 7939, 4697, 3619, 1997, 8947, 2055, 2037, 10740, 2006, 4331, 1010, 2016, 2038, 3348, 2007, 2014, 3689, 3836, 1010, 19846, 1010, 1998, 2496, 2273, 1012, 1026, 7987, 1013, 1028, 1026, 7987, 1013, 1028, 2054, 8563, 2033, 2055, 1045, 2572, 8025, 1011, 3756, 2003, 2008, 2871, 2086, 3283, 1010, 2023, 2001, 2641, 26932, 1012, 2428, 1010, 1996, 3348, 1998, 16371, 25469, 5019, 2024, 2261, 1998, 2521, 2090, 1010, 2130, 2059, 2009, 1005, 1055, 2025, 2915, 2066, 2070, 10036, 2135, 2081, 22555, 2080, 1012, 2096, 2026, 2406, 3549, 2568, 2424, 2009, 16880, 1010, 1999, 4507, 3348, 1998, 16371, 25469, 2024, 1037, 2350, 18785, 1999, 4467, 5988, 1012, 2130, 13749, 7849, 24544, 1010, 15835, 2037, 3437, 2000, 2204, 2214, 2879, 2198, 4811, 1010, 2018, 3348, 5019, 1999, 2010, 3152, 1012, 1026, 7987, 1013, 1028, 1026, 7987, 1013, 1028, 1045, 2079, 4012, 3549, 2094, 1996, 16587, 2005, 1996, 2755, 2008, 2151, 3348, 3491, 1999, 1996, 2143, 2003, 3491, 2005, 6018, 5682, 2738, 2084, 2074, 2000, 5213, 2111, 1998, 2191, 2769, 2000, 2022, 3491, 1999, 26932, 12370, 1999, 2637, 1012, 1045, 2572, 8025, 1011, 3756, 2003, 1037, 2204, 2143, 2005, 3087, 5782, 2000, 2817, 1996, 6240, 1998, 14629, 1006, 2053, 26136, 3832, 1007, 1997, 4467, 5988, 1012, 2021, 2428, 1010, 2023, 2143, 2987, 1005, 1056, 2031, 2172, 1997, 1037, 5436, 1012, 102]\n",
            "Decoded Text: ['[CLS]', 'i', 'rented', 'i', 'am', 'curious', '-', 'yellow', 'from', 'my', 'video', 'store', 'because', 'of', 'all', 'the', 'controversy', 'that', 'surrounded', 'it', 'when', 'it', 'was', 'first', 'released', 'in', '1967', '.', 'i', 'also', 'heard', 'that', 'at', 'first', 'it', 'was', 'seized', 'by', 'u', '.', 's', '.', 'customs', 'if', 'it', 'ever', 'tried', 'to', 'enter', 'this', 'country', ',', 'therefore', 'being', 'a', 'fan', 'of', 'films', 'considered', '\"', 'controversial', '\"', 'i', 'really', 'had', 'to', 'see', 'this', 'for', 'myself', '.', '<', 'br', '/', '>', '<', 'br', '/', '>', 'the', 'plot', 'is', 'centered', 'around', 'a', 'young', 'swedish', 'drama', 'student', 'named', 'lena', 'who', 'wants', 'to', 'learn', 'everything', 'she', 'can', 'about', 'life', '.', 'in', 'particular', 'she', 'wants', 'to', 'focus', 'her', 'attention', '##s', 'to', 'making', 'some', 'sort', 'of', 'documentary', 'on', 'what', 'the', 'average', 'sw', '##ede', 'thought', 'about', 'certain', 'political', 'issues', 'such', 'as', 'the', 'vietnam', 'war', 'and', 'race', 'issues', 'in', 'the', 'united', 'states', '.', 'in', 'between', 'asking', 'politicians', 'and', 'ordinary', 'den', '##ize', '##ns', 'of', 'stockholm', 'about', 'their', 'opinions', 'on', 'politics', ',', 'she', 'has', 'sex', 'with', 'her', 'drama', 'teacher', ',', 'classmates', ',', 'and', 'married', 'men', '.', '<', 'br', '/', '>', '<', 'br', '/', '>', 'what', 'kills', 'me', 'about', 'i', 'am', 'curious', '-', 'yellow', 'is', 'that', '40', 'years', 'ago', ',', 'this', 'was', 'considered', 'pornographic', '.', 'really', ',', 'the', 'sex', 'and', 'nu', '##dity', 'scenes', 'are', 'few', 'and', 'far', 'between', ',', 'even', 'then', 'it', \"'\", 's', 'not', 'shot', 'like', 'some', 'cheap', '##ly', 'made', 'porn', '##o', '.', 'while', 'my', 'country', '##men', 'mind', 'find', 'it', 'shocking', ',', 'in', 'reality', 'sex', 'and', 'nu', '##dity', 'are', 'a', 'major', 'staple', 'in', 'swedish', 'cinema', '.', 'even', 'ing', '##mar', 'bergman', ',', 'arguably', 'their', 'answer', 'to', 'good', 'old', 'boy', 'john', 'ford', ',', 'had', 'sex', 'scenes', 'in', 'his', 'films', '.', '<', 'br', '/', '>', '<', 'br', '/', '>', 'i', 'do', 'com', '##men', '##d', 'the', 'filmmakers', 'for', 'the', 'fact', 'that', 'any', 'sex', 'shown', 'in', 'the', 'film', 'is', 'shown', 'for', 'artistic', 'purposes', 'rather', 'than', 'just', 'to', 'shock', 'people', 'and', 'make', 'money', 'to', 'be', 'shown', 'in', 'pornographic', 'theaters', 'in', 'america', '.', 'i', 'am', 'curious', '-', 'yellow', 'is', 'a', 'good', 'film', 'for', 'anyone', 'wanting', 'to', 'study', 'the', 'meat', 'and', 'potatoes', '(', 'no', 'pun', 'intended', ')', 'of', 'swedish', 'cinema', '.', 'but', 'really', ',', 'this', 'film', 'doesn', \"'\", 't', 'have', 'much', 'of', 'a', 'plot', '.', '[SEP]']\n"
          ]
        }
      ],
      "source": [
        "tokenizer = AutoTokenizer.from_pretrained('distilbert-base-uncased')\n",
        "\n",
        "def preprocess_function(examples):\n",
        "    return tokenizer(examples[\"text\"], truncation=True)\n",
        "\n",
        "def preprocess_dataset(dataset):\n",
        "  processed_dataset = dataset.map(preprocess_function, batched=True)\n",
        "  train_dataset = processed_dataset['train'].shuffle(seed_value)\n",
        "\n",
        "  split_dataset = processed_dataset['test'].train_test_split(test_size=0.5, seed=seed_value)\n",
        "  val_dataset = split_dataset['train']\n",
        "  test_dataset = split_dataset['test']\n",
        "\n",
        "  return train_dataset, val_dataset, test_dataset\n",
        "\n",
        "\n",
        "encode_text = tokenizer.encode(dataset['train'][0]['text'])\n",
        "decode = tokenizer.batch_decode(encode_text)\n",
        "print('Encoded Text:', encode_text)\n",
        "print('Decoded Text:', decode)"
      ]
    },
    {
      "cell_type": "code",
      "execution_count": 10,
      "metadata": {
        "colab": {
          "base_uri": "https://localhost:8080/"
        },
        "id": "VEzkW4qPL4HT",
        "outputId": "c52c72c8-defb-434a-a10f-3619b3620c5a"
      },
      "outputs": [
        {
          "output_type": "stream",
          "name": "stderr",
          "text": [
            "WARNING:datasets.arrow_dataset:Loading cached processed dataset at /root/.cache/huggingface/datasets/imdb/plain_text/1.0.0/d613c88cf8fa3bab83b4ded3713f1f74830d1100e171db75bbddb80b3345c9c0/cache-7a7a5d00cfff76c8.arrow\n",
            "WARNING:datasets.arrow_dataset:Loading cached processed dataset at /root/.cache/huggingface/datasets/imdb/plain_text/1.0.0/d613c88cf8fa3bab83b4ded3713f1f74830d1100e171db75bbddb80b3345c9c0/cache-e290fabac8e550d9.arrow\n",
            "WARNING:datasets.arrow_dataset:Loading cached processed dataset at /root/.cache/huggingface/datasets/imdb/plain_text/1.0.0/d613c88cf8fa3bab83b4ded3713f1f74830d1100e171db75bbddb80b3345c9c0/cache-21afac97a91c9cbd.arrow\n",
            "WARNING:datasets.arrow_dataset:Loading cached shuffled indices for dataset at /root/.cache/huggingface/datasets/imdb/plain_text/1.0.0/d613c88cf8fa3bab83b4ded3713f1f74830d1100e171db75bbddb80b3345c9c0/cache-d05ef237d5e943a8.arrow\n",
            "WARNING:datasets.arrow_dataset:Loading cached split indices for dataset at /root/.cache/huggingface/datasets/imdb/plain_text/1.0.0/d613c88cf8fa3bab83b4ded3713f1f74830d1100e171db75bbddb80b3345c9c0/cache-7fcef24c2c94e9ea.arrow and /root/.cache/huggingface/datasets/imdb/plain_text/1.0.0/d613c88cf8fa3bab83b4ded3713f1f74830d1100e171db75bbddb80b3345c9c0/cache-f1dbe8fd0ff8ed97.arrow\n"
          ]
        }
      ],
      "source": [
        "train_dataset, val_dataset, test_dataset = preprocess_dataset(dataset)"
      ]
    },
    {
      "cell_type": "markdown",
      "source": [
        "Esse é um exemplo da base de dados depois do pré-processamento"
      ],
      "metadata": {
        "id": "xU2VYblh1yQP"
      }
    },
    {
      "cell_type": "code",
      "source": [
        "print('Text:', train_dataset[0]['text'])\n",
        "print('Label:', train_dataset[0]['label'])\n",
        "print('Input_IDs:', train_dataset[0]['input_ids'])\n",
        "print('Attention mask:', train_dataset[0]['attention_mask'])"
      ],
      "metadata": {
        "colab": {
          "base_uri": "https://localhost:8080/"
        },
        "id": "4cuACu6xu3op",
        "outputId": "acaa75dc-5c37-4749-a587-47fa01b23fe1"
      },
      "execution_count": 19,
      "outputs": [
        {
          "output_type": "stream",
          "name": "stdout",
          "text": [
            "Text: There is no relation at all between Fortier and Profiler but the fact that both are police series about violent crimes. Profiler looks crispy, Fortier looks classic. Profiler plots are quite simple. Fortier's plot are far more complicated... Fortier looks more like Prime Suspect, if we have to spot similarities... The main character is weak and weirdo, but have \"clairvoyance\". People like to compare, to judge, to evaluate. How about just enjoying? Funny thing too, people writing Fortier looks American but, on the other hand, arguing they prefer American series (!!!). Maybe it's the language, or the spirit, but I think this series is more English than American. By the way, the actors are really good and funny. The acting is not superficial at all...\n",
            "Label: 1\n",
            "Input_IDs: [101, 2045, 2003, 2053, 7189, 2012, 2035, 2090, 3481, 3771, 1998, 6337, 2099, 2021, 1996, 2755, 2008, 2119, 2024, 2610, 2186, 2055, 6355, 6997, 1012, 6337, 2099, 3504, 15594, 2100, 1010, 3481, 3771, 3504, 4438, 1012, 6337, 2099, 14811, 2024, 3243, 3722, 1012, 3481, 3771, 1005, 1055, 5436, 2024, 2521, 2062, 8552, 1012, 1012, 1012, 3481, 3771, 3504, 2062, 2066, 3539, 8343, 1010, 2065, 2057, 2031, 2000, 3962, 12319, 1012, 1012, 1012, 1996, 2364, 2839, 2003, 5410, 1998, 6881, 2080, 1010, 2021, 2031, 1000, 17936, 6767, 7054, 3401, 1000, 1012, 2111, 2066, 2000, 12826, 1010, 2000, 3648, 1010, 2000, 16157, 1012, 2129, 2055, 2074, 9107, 1029, 6057, 2518, 2205, 1010, 2111, 3015, 3481, 3771, 3504, 2137, 2021, 1010, 2006, 1996, 2060, 2192, 1010, 9177, 2027, 9544, 2137, 2186, 1006, 999, 999, 999, 1007, 1012, 2672, 2009, 1005, 1055, 1996, 2653, 1010, 2030, 1996, 4382, 1010, 2021, 1045, 2228, 2023, 2186, 2003, 2062, 2394, 2084, 2137, 1012, 2011, 1996, 2126, 1010, 1996, 5889, 2024, 2428, 2204, 1998, 6057, 1012, 1996, 3772, 2003, 2025, 23105, 2012, 2035, 1012, 1012, 1012, 102]\n",
            "Attention mask: [1, 1, 1, 1, 1, 1, 1, 1, 1, 1, 1, 1, 1, 1, 1, 1, 1, 1, 1, 1, 1, 1, 1, 1, 1, 1, 1, 1, 1, 1, 1, 1, 1, 1, 1, 1, 1, 1, 1, 1, 1, 1, 1, 1, 1, 1, 1, 1, 1, 1, 1, 1, 1, 1, 1, 1, 1, 1, 1, 1, 1, 1, 1, 1, 1, 1, 1, 1, 1, 1, 1, 1, 1, 1, 1, 1, 1, 1, 1, 1, 1, 1, 1, 1, 1, 1, 1, 1, 1, 1, 1, 1, 1, 1, 1, 1, 1, 1, 1, 1, 1, 1, 1, 1, 1, 1, 1, 1, 1, 1, 1, 1, 1, 1, 1, 1, 1, 1, 1, 1, 1, 1, 1, 1, 1, 1, 1, 1, 1, 1, 1, 1, 1, 1, 1, 1, 1, 1, 1, 1, 1, 1, 1, 1, 1, 1, 1, 1, 1, 1, 1, 1, 1, 1, 1, 1, 1, 1, 1, 1, 1, 1, 1, 1, 1, 1, 1, 1, 1, 1, 1, 1, 1, 1, 1, 1, 1, 1, 1]\n"
          ]
        }
      ]
    },
    {
      "cell_type": "markdown",
      "source": [
        "## 4. Treinamento"
      ],
      "metadata": {
        "id": "f-bGRZJPHoqB"
      }
    },
    {
      "cell_type": "code",
      "execution_count": 21,
      "metadata": {
        "colab": {
          "base_uri": "https://localhost:8080/"
        },
        "id": "y1dvhcEtswUH",
        "outputId": "6f3ebed0-4640-4daf-fce2-1ace07d528f2"
      },
      "outputs": [
        {
          "output_type": "stream",
          "name": "stderr",
          "text": [
            "Some weights of the PyTorch model were not used when initializing the TF 2.0 model TFDistilBertForSequenceClassification: ['vocab_layer_norm.weight', 'vocab_projector.bias', 'vocab_layer_norm.bias', 'vocab_transform.weight', 'vocab_transform.bias']\n",
            "- This IS expected if you are initializing TFDistilBertForSequenceClassification from a PyTorch model trained on another task or with another architecture (e.g. initializing a TFBertForSequenceClassification model from a BertForPreTraining model).\n",
            "- This IS NOT expected if you are initializing TFDistilBertForSequenceClassification from a PyTorch model that you expect to be exactly identical (e.g. initializing a TFBertForSequenceClassification model from a BertForSequenceClassification model).\n",
            "Some weights or buffers of the TF 2.0 model TFDistilBertForSequenceClassification were not initialized from the PyTorch model and are newly initialized: ['pre_classifier.weight', 'pre_classifier.bias', 'classifier.weight', 'classifier.bias']\n",
            "You should probably TRAIN this model on a down-stream task to be able to use it for predictions and inference.\n"
          ]
        }
      ],
      "source": [
        "id2label = {0: \"NEGATIVE\", 1: \"POSITIVE\"}\n",
        "label2id = {value: key for key, value in id2label.items()}\n",
        "\n",
        "batch_size = 16\n",
        "num_epochs = 3\n",
        "batches_per_epoch = len(train_dataset) // batch_size\n",
        "total_train_steps = int(batches_per_epoch * num_epochs)\n",
        "\n",
        "optimizer, schedule = create_optimizer(init_lr=2e-5, num_warmup_steps=0, num_train_steps=total_train_steps)\n",
        "\n",
        "model = TFAutoModelForSequenceClassification.from_pretrained('distilbert-base-uncased',\n",
        "                                          num_labels=2,\n",
        "                                          id2label=id2label,\n",
        "                                          label2id=label2id)\n",
        "\n",
        "model.compile(optimizer=optimizer, metrics=['accuracy'])"
      ]
    },
    {
      "cell_type": "markdown",
      "source": [
        "Converter as bases de dados para um formato otimizado para o TensorFlow"
      ],
      "metadata": {
        "id": "K0P3qpujD5IA"
      }
    },
    {
      "cell_type": "code",
      "execution_count": 22,
      "metadata": {
        "id": "aHF-WSLf9538",
        "colab": {
          "base_uri": "https://localhost:8080/"
        },
        "outputId": "8e5381f7-a152-4c30-b399-a507b59751ec"
      },
      "outputs": [
        {
          "output_type": "stream",
          "name": "stderr",
          "text": [
            "You're using a DistilBertTokenizerFast tokenizer. Please note that with a fast tokenizer, using the `__call__` method is faster than using a method to encode the text followed by a call to the `pad` method to get a padded encoding.\n"
          ]
        }
      ],
      "source": [
        "data_collator = DataCollatorWithPadding(tokenizer=tokenizer, return_tensors=\"tf\")\n",
        "\n",
        "tf_train_set = model.prepare_tf_dataset(\n",
        "    train_dataset,\n",
        "    shuffle=True,\n",
        "    batch_size=batch_size,\n",
        "    collate_fn=data_collator,\n",
        ")\n",
        "\n",
        "tf_val_set = model.prepare_tf_dataset(\n",
        "    val_dataset,\n",
        "    shuffle=True,\n",
        "    batch_size=batch_size,\n",
        "    collate_fn=data_collator,\n",
        ")\n",
        "\n",
        "tf_test_set = model.prepare_tf_dataset(\n",
        "    test_dataset,\n",
        "    shuffle=False,\n",
        "    batch_size=batch_size,\n",
        "    collate_fn=data_collator,\n",
        ")"
      ]
    },
    {
      "cell_type": "markdown",
      "source": [
        "Treinando o modelo"
      ],
      "metadata": {
        "id": "j5ol-lYazfoh"
      }
    },
    {
      "cell_type": "code",
      "execution_count": 23,
      "metadata": {
        "colab": {
          "base_uri": "https://localhost:8080/"
        },
        "id": "k5FAX6Eu9edh",
        "outputId": "3909f451-b21a-4f27-8716-a95fb1c5e1bd"
      },
      "outputs": [
        {
          "output_type": "stream",
          "name": "stdout",
          "text": [
            "Epoch 1/3\n",
            "1562/1562 [==============================] - 1682s 1s/step - loss: 0.2506 - accuracy: 0.8968 - val_loss: 0.1804 - val_accuracy: 0.9305\n",
            "Epoch 2/3\n",
            "1562/1562 [==============================] - 1597s 1s/step - loss: 0.1245 - accuracy: 0.9561 - val_loss: 0.1983 - val_accuracy: 0.9298\n",
            "Epoch 3/3\n",
            "1562/1562 [==============================] - 1597s 1s/step - loss: 0.0638 - accuracy: 0.9807 - val_loss: 0.2134 - val_accuracy: 0.9326\n"
          ]
        }
      ],
      "source": [
        "history = model.fit(x=tf_train_set, validation_data=tf_val_set, epochs=num_epochs, batch_size=batch_size)"
      ]
    },
    {
      "cell_type": "code",
      "source": [
        "history_df = pd.DataFrame(history.history)\n",
        "history_df.rename(columns={'loss': 'train_loss', 'accuracy': 'train_acc', 'val_accuracy': 'val_acc'}, inplace=True)\n",
        "\n",
        "fig, (ax1, ax2) = plt.subplots(1, 2)\n",
        "\n",
        "history_df[['train_loss', 'val_loss']].plot(ax=ax1)\n",
        "history_df[['train_acc', 'val_acc']].plot(ax=ax2)\n"
      ],
      "metadata": {
        "colab": {
          "base_uri": "https://localhost:8080/",
          "height": 447
        },
        "id": "9yVZ0hxYXkf8",
        "outputId": "907c891f-ea7e-4f42-b323-c41b672535e4"
      },
      "execution_count": 80,
      "outputs": [
        {
          "output_type": "execute_result",
          "data": {
            "text/plain": [
              "<Axes: >"
            ]
          },
          "metadata": {},
          "execution_count": 80
        },
        {
          "output_type": "display_data",
          "data": {
            "text/plain": [
              "<Figure size 640x480 with 2 Axes>"
            ],
            "image/png": "[encoded data removed]"
          },
          "metadata": {}
        }
      ]
    },
    {
      "cell_type": "markdown",
      "source": [
        "## 5. Teste"
      ],
      "metadata": {
        "id": "9EOQ55s0feSX"
      }
    },
    {
      "cell_type": "markdown",
      "source": [
        "Após o treinamento temos que testar o modelo com dados que ele desconhece antes de colocá-lo em produção."
      ],
      "metadata": {
        "id": "_EhYKBPxfoxw"
      }
    },
    {
      "cell_type": "code",
      "execution_count": 42,
      "metadata": {
        "id": "x8TOxze7NUzD",
        "colab": {
          "base_uri": "https://localhost:8080/"
        },
        "outputId": "443d91d1-7f7c-4cee-81dd-2aea48cf015d"
      },
      "outputs": [
        {
          "output_type": "stream",
          "name": "stdout",
          "text": [
            "782/782 [==============================] - 244s 306ms/step - loss: 0.2189 - accuracy: 0.9313\n"
          ]
        }
      ],
      "source": [
        "results = model.evaluate(tf_test_set)"
      ]
    },
    {
      "cell_type": "code",
      "source": [
        "print('Results')\n",
        "print('\\tMean train loss: {}'.format(history_df['train_loss'].mean()))\n",
        "print('\\tMean validation loss: {}'.format(history_df['val_loss'].mean()))\n",
        "print('\\tTest loss: {}'.format(results[0]), end='\\n\\n')\n",
        "\n",
        "print('\\tMean train accuracy: {}%'.format(round(history_df['train_acc'].mean()*100), 2))\n",
        "print('\\tMean validation accuracy: {}%'.format(round(history_df['val_acc'].mean()*100), 2))\n",
        "print('\\tTest accuracy: {}%'.format(round(results[1]*100, 2)))"
      ],
      "metadata": {
        "colab": {
          "base_uri": "https://localhost:8080/"
        },
        "id": "75xdRY2BaMGS",
        "outputId": "a00ba5e2-5add-477c-c158-8b57a63d43c7"
      },
      "execution_count": 69,
      "outputs": [
        {
          "output_type": "stream",
          "name": "stdout",
          "text": [
            "Results\n",
            "\tMean train loss: 0.14626972377300262\n",
            "\tMean validation loss: 0.19737425446510315\n",
            "\tTest loss: 0.21885019540786743\n",
            "\n",
            "\tMean train accuracy: 94%\n",
            "\tMean validation accuracy: 93%\n",
            "\tTest accuracy: 93.13%\n"
          ]
        }
      ]
    },
    {
      "cell_type": "markdown",
      "source": [
        "## 6. API"
      ],
      "metadata": {
        "id": "NzU7eivUe983"
      }
    },
    {
      "cell_type": "markdown",
      "source": [
        "O Huggingface possui uma API onde é possível testar os modelos em diferentes tarefas sem precisar executá-las na sua máquina"
      ],
      "metadata": {
        "id": "NFEM1RJgfCFM"
      }
    },
    {
      "cell_type": "code",
      "execution_count": 52,
      "metadata": {
        "id": "-hxTLm7qBBGd",
        "colab": {
          "base_uri": "https://localhost:8080/"
        },
        "outputId": "aee6d3ec-f8d9-4c5d-ef53-9f427c19e5d6"
      },
      "outputs": [
        {
          "output_type": "stream",
          "name": "stderr",
          "text": [
            "Some weights of the PyTorch model were not used when initializing the TF 2.0 model TFDistilBertForSequenceClassification: ['vocab_transform.bias', 'vocab_transform.weight', 'vocab_layer_norm.bias', 'vocab_projector.bias', 'vocab_layer_norm.weight']\n",
            "- This IS expected if you are initializing TFDistilBertForSequenceClassification from a PyTorch model trained on another task or with another architecture (e.g. initializing a TFBertForSequenceClassification model from a BertForPreTraining model).\n",
            "- This IS NOT expected if you are initializing TFDistilBertForSequenceClassification from a PyTorch model that you expect to be exactly identical (e.g. initializing a TFBertForSequenceClassification model from a BertForSequenceClassification model).\n",
            "Some weights or buffers of the TF 2.0 model TFDistilBertForSequenceClassification were not initialized from the PyTorch model and are newly initialized: ['pre_classifier.weight', 'pre_classifier.bias', 'classifier.weight', 'classifier.bias']\n",
            "You should probably TRAIN this model on a down-stream task to be able to use it for predictions and inference.\n"
          ]
        }
      ],
      "source": [
        "my_classifier = pipeline('sentiment-analysis', model, tokenizer=tokenizer)\n",
        "api_classifier = pipeline(\n",
        "    'sentiment-analysis',\n",
        "    model=TFAutoModelForSequenceClassification.from_pretrained('distilbert-base-uncased',\n",
        "                                                               num_labels=2,\n",
        "                                                               id2label=id2label,\n",
        "                                                               label2id=label2id\n",
        "                                                               ),\n",
        "    tokenizer=tokenizer)"
      ]
    },
    {
      "cell_type": "code",
      "source": [
        "positive_example = 'This film is very good'\n",
        "negative_example = 'This film is very bad'\n",
        "sarcasm_example = \"This film is good if you like to waste your time, I don't have any reason to watch again\"\n",
        "\n",
        "my_classifications = my_classifier([positive_example, negative_example, sarcasm_example])\n",
        "api_classifications = api_classifier([positive_example, negative_example, sarcasm_example])"
      ],
      "metadata": {
        "id": "UaeqtbS5bAW6"
      },
      "execution_count": 73,
      "outputs": []
    },
    {
      "cell_type": "code",
      "source": [
        "print('Positive Example')\n",
        "print('\\tText:', positive_example)\n",
        "print('\\tMy model classification:', my_classifications[0]['label'], 'with {}% chance'.format(round((my_classifications[0]['score'] * 100), 2)))\n",
        "print('\\tAPI model classification:', api_classifications[0]['label'], 'with {}% chance'.format(round((api_classifications[0]['score'] * 100), 2)))\n",
        "\n",
        "print('\\nNegative Example')\n",
        "print('\\tText:', negative_example)\n",
        "print('\\tMy model classification:', my_classifications[1]['label'], 'with {}% chance'.format(round((my_classifications[1]['score'] * 100), 2)))\n",
        "print('\\tAPI model classification:', api_classifications[1]['label'], 'with {}% chance'.format(round((api_classifications[1]['score'] * 100), 2)))\n",
        "\n",
        "print('\\nSarcasm Example')\n",
        "print('\\tText:', sarcasm_example)\n",
        "print('\\tMy model classification:', my_classifications[2]['label'], 'with {}% chance'.format(round((my_classifications[2]['score'] * 100), 2)))\n",
        "print('\\tAPI model classification:', api_classifications[2]['label'], 'with {}% chance'.format(round((api_classifications[2]['score'] * 100), 2)))"
      ],
      "metadata": {
        "colab": {
          "base_uri": "https://localhost:8080/"
        },
        "id": "x_14EzfYc-wK",
        "outputId": "9d3042a4-6747-45f1-9d9d-31222fe817b1"
      },
      "execution_count": 76,
      "outputs": [
        {
          "output_type": "stream",
          "name": "stdout",
          "text": [
            "Positive Example\n",
            "\tText: This film is very good\n",
            "\tMy model classification: POSITIVE with 99.24% chance\n",
            "\tAPI model classification: POSITIVE with 51.39% chance\n",
            "\n",
            "Negative Example\n",
            "\tText: This film is very bad\n",
            "\tMy model classification: NEGATIVE with 99.18% chance\n",
            "\tAPI model classification: POSITIVE with 50.97% chance\n",
            "\n",
            "Sarcasm Example\n",
            "\tText: This film is good if you like to waste your time, I don't have any reason to watch again\n",
            "\tMy model classification: NEGATIVE with 99.14% chance\n",
            "\tAPI model classification: NEGATIVE with 50.37% chance\n"
          ]
        }
      ]
    },
    {
      "cell_type": "markdown",
      "metadata": {
        "id": "3j1AszqW8Vi-"
      },
      "source": [
        "## Referências"
      ]
    },
    {
      "cell_type": "markdown",
      "metadata": {
        "id": "aKY5gSHX8ZhM"
      },
      "source": [
        "DEVLIN, J. et al. BERT: Pre-training of Deep Bidirectional Transformers for Language Understanding. [S.l.]: [s.n.], 2019. Disponível em: <https://arxiv.org/pdf/1810.04805.pdf>. Acesso em: 17 jul. 2023.\n",
        "\n",
        "HUGGINGFACE. 🤗 Transformers. huggingface.co, [s.d.]. Disponível em: <https://huggingface.co/docs/transformers/index>. Acesso em: 17 jul. 2023.   \n",
        "\n",
        "TENSORFLOW. TensorFlow Hub. TensorFlow, [s.d.]. Disponível em: <https://www.tensorflow.org/hub/tutorials?hl=pt-br>. Acesso em: 17 jul. 2023.\n",
        "\n",
        "VASWANI, A. et al. Attention Is All You Need. [S.l.]: [s.n.], 2017. Disponível em: <https://arxiv.org/pdf/1706.03762.pdf>. Acesso em: 17 jul. 2023.\n",
        "\n",
        "WOLF, T. et al. Transformers: State-of-the-Art Natural Language Processing. [S.l.]: [s.n.], 2020. Disponível em: <https://aclanthology.org/2020.emnlp-demos.6.pdf>. Acesso em: 17 jul. 2023.\n",
        "\n",
        "XIN ZHAO, W. et al. A survey of large language models. [S.l.]: [s.n.], 2023. Disponível em: <https://arxiv.org/pdf/2303.18223.pdf>. Acesso em: 17 jul. 2023."
      ]
    }
  ],
  "metadata": {
    "accelerator": "GPU",
    "colab": {
      "provenance": [],
      "toc_visible": true,
      "authorship_tag": "ABX9TyOl91KdzoupLIxFXu00s1Zh",
      "include_colab_link": true
    },
    "kernelspec": {
      "display_name": "Python 3",
      "name": "python3"
    },
    "language_info": {
      "name": "python"
    },
    "widgets": {
      "application/vnd.jupyter.widget-state+json": {
        "fbc9152c138347c188757ea66d537bfa": {
          "model_module": "@jupyter-widgets/controls",
          "model_name": "HBoxModel",
          "model_module_version": "1.5.0",
          "state": {
            "_dom_classes": [],
            "_model_module": "@jupyter-widgets/controls",
            "_model_module_version": "1.5.0",
            "_model_name": "HBoxModel",
            "_view_count": null,
            "_view_module": "@jupyter-widgets/controls",
            "_view_module_version": "1.5.0",
            "_view_name": "HBoxView",
            "box_style": "",
            "children": [
              "IPY_MODEL_c7da6a19db8e4e3d8715c768941036f1",
              "IPY_MODEL_149fba4451d1446c9dbaa52ca8c0619e",
              "IPY_MODEL_75d636e19c084dfaa2f6458a38dc82aa"
            ],
            "layout": "IPY_MODEL_4401329a3bb0468181a590d4b4e53280"
          }
        },
        "c7da6a19db8e4e3d8715c768941036f1": {
          "model_module": "@jupyter-widgets/controls",
          "model_name": "HTMLModel",
          "model_module_version": "1.5.0",
          "state": {
            "_dom_classes": [],
            "_model_module": "@jupyter-widgets/controls",
            "_model_module_version": "1.5.0",
            "_model_name": "HTMLModel",
            "_view_count": null,
            "_view_module": "@jupyter-widgets/controls",
            "_view_module_version": "1.5.0",
            "_view_name": "HTMLView",
            "description": "",
            "description_tooltip": null,
            "layout": "IPY_MODEL_003d76e6e0134a1680aa4943a792201e",
            "placeholder": "​",
            "style": "IPY_MODEL_2718c62b2aeb485781a7cac3c8a01bd4",
            "value": "100%"
          }
        },
        "149fba4451d1446c9dbaa52ca8c0619e": {
          "model_module": "@jupyter-widgets/controls",
          "model_name": "FloatProgressModel",
          "model_module_version": "1.5.0",
          "state": {
            "_dom_classes": [],
            "_model_module": "@jupyter-widgets/controls",
            "_model_module_version": "1.5.0",
            "_model_name": "FloatProgressModel",
            "_view_count": null,
            "_view_module": "@jupyter-widgets/controls",
            "_view_module_version": "1.5.0",
            "_view_name": "ProgressView",
            "bar_style": "success",
            "description": "",
            "description_tooltip": null,
            "layout": "IPY_MODEL_2290831a243f49d0ba66f30104cb859b",
            "max": 3,
            "min": 0,
            "orientation": "horizontal",
            "style": "IPY_MODEL_eb0c979e936345f68b632bfad5adbbf7",
            "value": 3
          }
        },
        "75d636e19c084dfaa2f6458a38dc82aa": {
          "model_module": "@jupyter-widgets/controls",
          "model_name": "HTMLModel",
          "model_module_version": "1.5.0",
          "state": {
            "_dom_classes": [],
            "_model_module": "@jupyter-widgets/controls",
            "_model_module_version": "1.5.0",
            "_model_name": "HTMLModel",
            "_view_count": null,
            "_view_module": "@jupyter-widgets/controls",
            "_view_module_version": "1.5.0",
            "_view_name": "HTMLView",
            "description": "",
            "description_tooltip": null,
            "layout": "IPY_MODEL_a79f1ebc3d994205a07bb08daebf4e90",
            "placeholder": "​",
            "style": "IPY_MODEL_62b379a961124020b7dae2e818e910d0",
            "value": " 3/3 [00:00&lt;00:00,  4.15it/s]"
          }
        },
        "4401329a3bb0468181a590d4b4e53280": {
          "model_module": "@jupyter-widgets/base",
          "model_name": "LayoutModel",
          "model_module_version": "1.2.0",
          "state": {
            "_model_module": "@jupyter-widgets/base",
            "_model_module_version": "1.2.0",
            "_model_name": "LayoutModel",
            "_view_count": null,
            "_view_module": "@jupyter-widgets/base",
            "_view_module_version": "1.2.0",
            "_view_name": "LayoutView",
            "align_content": null,
            "align_items": null,
            "align_self": null,
            "border": null,
            "bottom": null,
            "display": null,
            "flex": null,
            "flex_flow": null,
            "grid_area": null,
            "grid_auto_columns": null,
            "grid_auto_flow": null,
            "grid_auto_rows": null,
            "grid_column": null,
            "grid_gap": null,
            "grid_row": null,
            "grid_template_areas": null,
            "grid_template_columns": null,
            "grid_template_rows": null,
            "height": null,
            "justify_content": null,
            "justify_items": null,
            "left": null,
            "margin": null,
            "max_height": null,
            "max_width": null,
            "min_height": null,
            "min_width": null,
            "object_fit": null,
            "object_position": null,
            "order": null,
            "overflow": null,
            "overflow_x": null,
            "overflow_y": null,
            "padding": null,
            "right": null,
            "top": null,
            "visibility": null,
            "width": null
          }
        },
        "003d76e6e0134a1680aa4943a792201e": {
          "model_module": "@jupyter-widgets/base",
          "model_name": "LayoutModel",
          "model_module_version": "1.2.0",
          "state": {
            "_model_module": "@jupyter-widgets/base",
            "_model_module_version": "1.2.0",
            "_model_name": "LayoutModel",
            "_view_count": null,
            "_view_module": "@jupyter-widgets/base",
            "_view_module_version": "1.2.0",
            "_view_name": "LayoutView",
            "align_content": null,
            "align_items": null,
            "align_self": null,
            "border": null,
            "bottom": null,
            "display": null,
            "flex": null,
            "flex_flow": null,
            "grid_area": null,
            "grid_auto_columns": null,
            "grid_auto_flow": null,
            "grid_auto_rows": null,
            "grid_column": null,
            "grid_gap": null,
            "grid_row": null,
            "grid_template_areas": null,
            "grid_template_columns": null,
            "grid_template_rows": null,
            "height": null,
            "justify_content": null,
            "justify_items": null,
            "left": null,
            "margin": null,
            "max_height": null,
            "max_width": null,
            "min_height": null,
            "min_width": null,
            "object_fit": null,
            "object_position": null,
            "order": null,
            "overflow": null,
            "overflow_x": null,
            "overflow_y": null,
            "padding": null,
            "right": null,
            "top": null,
            "visibility": null,
            "width": null
          }
        },
        "2718c62b2aeb485781a7cac3c8a01bd4": {
          "model_module": "@jupyter-widgets/controls",
          "model_name": "DescriptionStyleModel",
          "model_module_version": "1.5.0",
          "state": {
            "_model_module": "@jupyter-widgets/controls",
            "_model_module_version": "1.5.0",
            "_model_name": "DescriptionStyleModel",
            "_view_count": null,
            "_view_module": "@jupyter-widgets/base",
            "_view_module_version": "1.2.0",
            "_view_name": "StyleView",
            "description_width": ""
          }
        },
        "2290831a243f49d0ba66f30104cb859b": {
          "model_module": "@jupyter-widgets/base",
          "model_name": "LayoutModel",
          "model_module_version": "1.2.0",
          "state": {
            "_model_module": "@jupyter-widgets/base",
            "_model_module_version": "1.2.0",
            "_model_name": "LayoutModel",
            "_view_count": null,
            "_view_module": "@jupyter-widgets/base",
            "_view_module_version": "1.2.0",
            "_view_name": "LayoutView",
            "align_content": null,
            "align_items": null,
            "align_self": null,
            "border": null,
            "bottom": null,
            "display": null,
            "flex": null,
            "flex_flow": null,
            "grid_area": null,
            "grid_auto_columns": null,
            "grid_auto_flow": null,
            "grid_auto_rows": null,
            "grid_column": null,
            "grid_gap": null,
            "grid_row": null,
            "grid_template_areas": null,
            "grid_template_columns": null,
            "grid_template_rows": null,
            "height": null,
            "justify_content": null,
            "justify_items": null,
            "left": null,
            "margin": null,
            "max_height": null,
            "max_width": null,
            "min_height": null,
            "min_width": null,
            "object_fit": null,
            "object_position": null,
            "order": null,
            "overflow": null,
            "overflow_x": null,
            "overflow_y": null,
            "padding": null,
            "right": null,
            "top": null,
            "visibility": null,
            "width": null
          }
        },
        "eb0c979e936345f68b632bfad5adbbf7": {
          "model_module": "@jupyter-widgets/controls",
          "model_name": "ProgressStyleModel",
          "model_module_version": "1.5.0",
          "state": {
            "_model_module": "@jupyter-widgets/controls",
            "_model_module_version": "1.5.0",
            "_model_name": "ProgressStyleModel",
            "_view_count": null,
            "_view_module": "@jupyter-widgets/base",
            "_view_module_version": "1.2.0",
            "_view_name": "StyleView",
            "bar_color": null,
            "description_width": ""
          }
        },
        "a79f1ebc3d994205a07bb08daebf4e90": {
          "model_module": "@jupyter-widgets/base",
          "model_name": "LayoutModel",
          "model_module_version": "1.2.0",
          "state": {
            "_model_module": "@jupyter-widgets/base",
            "_model_module_version": "1.2.0",
            "_model_name": "LayoutModel",
            "_view_count": null,
            "_view_module": "@jupyter-widgets/base",
            "_view_module_version": "1.2.0",
            "_view_name": "LayoutView",
            "align_content": null,
            "align_items": null,
            "align_self": null,
            "border": null,
            "bottom": null,
            "display": null,
            "flex": null,
            "flex_flow": null,
            "grid_area": null,
            "grid_auto_columns": null,
            "grid_auto_flow": null,
            "grid_auto_rows": null,
            "grid_column": null,
            "grid_gap": null,
            "grid_row": null,
            "grid_template_areas": null,
            "grid_template_columns": null,
            "grid_template_rows": null,
            "height": null,
            "justify_content": null,
            "justify_items": null,
            "left": null,
            "margin": null,
            "max_height": null,
            "max_width": null,
            "min_height": null,
            "min_width": null,
            "object_fit": null,
            "object_position": null,
            "order": null,
            "overflow": null,
            "overflow_x": null,
            "overflow_y": null,
            "padding": null,
            "right": null,
            "top": null,
            "visibility": null,
            "width": null
          }
        },
        "62b379a961124020b7dae2e818e910d0": {
          "model_module": "@jupyter-widgets/controls",
          "model_name": "DescriptionStyleModel",
          "model_module_version": "1.5.0",
          "state": {
            "_model_module": "@jupyter-widgets/controls",
            "_model_module_version": "1.5.0",
            "_model_name": "DescriptionStyleModel",
            "_view_count": null,
            "_view_module": "@jupyter-widgets/base",
            "_view_module_version": "1.2.0",
            "_view_name": "StyleView",
            "description_width": ""
          }
        }
      }
    }
  },
  "nbformat": 4,
  "nbformat_minor": 0
}